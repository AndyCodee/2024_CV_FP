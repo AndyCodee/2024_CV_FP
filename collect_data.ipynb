{
 "cells": [
  {
   "cell_type": "code",
   "execution_count": null,
   "metadata": {},
   "outputs": [],
   "source": [
    "import cv2\n",
    "import os\n",
    "from utils.preprocess import Preprocess \n",
    "\n",
    "dataset_dir = 'dataset/test'\n",
    "label_dir = os.path.join(dataset_dir, 'ok')\n",
    "\n",
    "if not os.path.exists(label_dir):\n",
    "    os.makedirs(label_dir)\n",
    "\n",
    "cap = cv2.VideoCapture(0)\n",
    "processor = Preprocess()\n",
    "\n",
    "if not cap.isOpened():\n",
    "    print(\"無法開啟攝影機\")\n",
    "    exit()\n",
    "\n",
    "frame_count = 1 \n",
    "\n",
    "while True:\n",
    "\n",
    "    ret, frame = cap.read()\n",
    "\n",
    "    if not ret:\n",
    "        print(\"無法接收幀（stream end?）。正在退出 ...\")\n",
    "        break\n",
    "\n",
    "    frame = cv2.flip(frame, 1)\n",
    "\n",
    "    cv2.imshow('camera', frame)\n",
    "\n",
    "    key = cv2.waitKey(1)\n",
    "    if key == ord('q'):\n",
    "        break\n",
    "    elif key == ord(' '):  \n",
    "    \n",
    "        preprocessed_img = processor.hsv_segmentation(frame)\n",
    "        preprocessed_img = processor.largest_connected_component(preprocessed_img)\n",
    "        preprocessed_img = processor.gray_level(preprocessed_img)\n",
    "    \n",
    "        filename = os.path.join(label_dir, f'image_{frame_count}.png')\n",
    "        cv2.imwrite(filename, preprocessed_img)\n",
    "\n",
    "        frame_count += 1\n",
    "        print(f'圖片保存到: {filename}')\n",
    "\n",
    "cap.release()\n",
    "cv2.destroyAllWindows()\n",
    "\n"
   ]
  }
 ],
 "metadata": {
  "kernelspec": {
   "display_name": "CV_GPU",
   "language": "python",
   "name": "python3"
  },
  "language_info": {
   "codemirror_mode": {
    "name": "ipython",
    "version": 3
   },
   "file_extension": ".py",
   "mimetype": "text/x-python",
   "name": "python",
   "nbconvert_exporter": "python",
   "pygments_lexer": "ipython3",
   "version": "3.12.8"
  }
 },
 "nbformat": 4,
 "nbformat_minor": 2
}
